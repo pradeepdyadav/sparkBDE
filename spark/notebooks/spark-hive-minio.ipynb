{
 "cells": [
  {
   "cell_type": "markdown",
   "id": "cd200b66-c4da-44cb-a1b9-b3b41c1ed5bd",
   "metadata": {},
   "source": [
    "### reading from minio"
   ]
  },
  {
   "cell_type": "code",
   "execution_count": null,
   "id": "04b62521-8b7e-4f45-affd-a4b0cbe31fd2",
   "metadata": {},
   "outputs": [],
   "source": [
    "from pyspark.sql import SparkSession\n",
    "\n",
    "spark = SparkSession.builder \\\n",
    "            .appName('spark_minio') \\\n",
    "            .enableHiveSupport() \\\n",
    "            .getOrCreate()\n",
    "\n",
    "spark"
   ]
  },
  {
   "cell_type": "code",
   "execution_count": 10,
   "id": "e2d3610a-004f-4a10-9dc9-ecb36e8790db",
   "metadata": {},
   "outputs": [],
   "source": [
    "df = spark.read.csv(\"s3a://uploads/emp.csv\")"
   ]
  },
  {
   "cell_type": "code",
   "execution_count": null,
   "id": "dc54432e-e527-404f-a01b-d676d6cd4eeb",
   "metadata": {},
   "outputs": [],
   "source": [
    "df.count()"
   ]
  },
  {
   "cell_type": "code",
   "execution_count": null,
   "id": "7a595105-eec5-42d4-82e8-024bc5d8447f",
   "metadata": {},
   "outputs": [],
   "source": [
    "%%sql\n",
    "show databases"
   ]
  },
  {
   "cell_type": "code",
   "execution_count": null,
   "id": "e8f13b03-b968-408b-9cf3-b53148efc97d",
   "metadata": {},
   "outputs": [],
   "source": [
    "%%sql\n",
    "CREATE DATABASE IF NOT EXISTS sb"
   ]
  },
  {
   "cell_type": "code",
   "execution_count": 11,
   "id": "71ec7a22-250d-4afb-9b7f-0b2fb6fa1c00",
   "metadata": {},
   "outputs": [],
   "source": [
    "df.writeTo(\"nyc.emp\").using(\"iceberg\").createOrReplace()"
   ]
  },
  {
   "cell_type": "code",
   "execution_count": 12,
   "id": "75478775-6c42-49a0-bb8b-1698eac32888",
   "metadata": {},
   "outputs": [
    {
     "data": {
      "text/html": [
       "<table>\n",
       "    <thead>\n",
       "        <tr>\n",
       "            <th>_c0</th>\n",
       "            <th>_c1</th>\n",
       "            <th>_c2</th>\n",
       "        </tr>\n",
       "    </thead>\n",
       "    <tbody>\n",
       "        <tr>\n",
       "            <td>3</td>\n",
       "            <td>Pooja</td>\n",
       "            <td>CRM</td>\n",
       "        </tr>\n",
       "        <tr>\n",
       "            <td>4</td>\n",
       "            <td>Priya</td>\n",
       "            <td>KTC</td>\n",
       "        </tr>\n",
       "        <tr>\n",
       "            <td>1</td>\n",
       "            <td>Pradeep</td>\n",
       "            <td>None</td>\n",
       "        </tr>\n",
       "        <tr>\n",
       "            <td>2</td>\n",
       "            <td>Amit</td>\n",
       "            <td>None</td>\n",
       "        </tr>\n",
       "    </tbody>\n",
       "</table>"
      ],
      "text/plain": [
       "+-----+---------+------+\n",
       "| _c0 |     _c1 |  _c2 |\n",
       "+-----+---------+------+\n",
       "|   3 |   Pooja |  CRM |\n",
       "|   4 |   Priya |  KTC |\n",
       "|   1 | Pradeep | None |\n",
       "|   2 |    Amit | None |\n",
       "+-----+---------+------+"
      ]
     },
     "execution_count": 12,
     "metadata": {},
     "output_type": "execute_result"
    }
   ],
   "source": [
    "%%sql\n",
    "select * from nyc.emp"
   ]
  },
  {
   "cell_type": "code",
   "execution_count": 13,
   "id": "3078db0b-9d4e-49e4-8377-ea3a1470bcbb",
   "metadata": {},
   "outputs": [
    {
     "name": "stderr",
     "output_type": "stream",
     "text": [
      "24/09/10 07:51:40 WARN SessionState: METASTORE_FILTER_HOOK will be ignored, since hive.security.authorization.manager is set to instance of HiveAuthorizerFactory.\n"
     ]
    },
    {
     "data": {
      "text/html": [
       "<table>\n",
       "    <thead>\n",
       "        <tr>\n",
       "        </tr>\n",
       "    </thead>\n",
       "    <tbody>\n",
       "    </tbody>\n",
       "</table>"
      ],
      "text/plain": [
       "++\n",
       "||\n",
       "++\n",
       "++"
      ]
     },
     "execution_count": 13,
     "metadata": {},
     "output_type": "execute_result"
    }
   ],
   "source": [
    "%%sql\n",
    "\n",
    "    create view nyc.emp_view as \n",
    "    select _c0 as id, _c1 as name, _c2 as dept from nyc.emp"
   ]
  },
  {
   "cell_type": "code",
   "execution_count": 14,
   "id": "59f56db4-6bf0-4ad2-96fe-f5efca4eb0da",
   "metadata": {},
   "outputs": [
    {
     "data": {
      "text/html": [
       "<table>\n",
       "    <thead>\n",
       "        <tr>\n",
       "            <th>id</th>\n",
       "            <th>name</th>\n",
       "            <th>dept</th>\n",
       "        </tr>\n",
       "    </thead>\n",
       "    <tbody>\n",
       "        <tr>\n",
       "            <td>3</td>\n",
       "            <td>Pooja</td>\n",
       "            <td>CRM</td>\n",
       "        </tr>\n",
       "        <tr>\n",
       "            <td>4</td>\n",
       "            <td>Priya</td>\n",
       "            <td>KTC</td>\n",
       "        </tr>\n",
       "        <tr>\n",
       "            <td>1</td>\n",
       "            <td>Pradeep</td>\n",
       "            <td>None</td>\n",
       "        </tr>\n",
       "        <tr>\n",
       "            <td>2</td>\n",
       "            <td>Amit</td>\n",
       "            <td>None</td>\n",
       "        </tr>\n",
       "    </tbody>\n",
       "</table>"
      ],
      "text/plain": [
       "+----+---------+------+\n",
       "| id |    name | dept |\n",
       "+----+---------+------+\n",
       "|  3 |   Pooja |  CRM |\n",
       "|  4 |   Priya |  KTC |\n",
       "|  1 | Pradeep | None |\n",
       "|  2 |    Amit | None |\n",
       "+----+---------+------+"
      ]
     },
     "execution_count": 14,
     "metadata": {},
     "output_type": "execute_result"
    }
   ],
   "source": [
    "%%sql\n",
    "\n",
    "select * from nyc.emp_view"
   ]
  },
  {
   "cell_type": "code",
   "execution_count": null,
   "id": "ad185490-b00c-48d7-be71-c8541e9497c0",
   "metadata": {},
   "outputs": [],
   "source": [
    "import logging\n",
    "import os\n",
    "from pyspark import SparkContext\n",
    "from pyspark.sql import SparkSession\n",
    "from pyspark.sql.types import StructType, StructField, LongType, DoubleType, StringType\n",
    "\n",
    "\n",
    "spark = SparkSession.builder.getOrCreate()\n",
    "\n",
    "def load_config(spark_context: SparkContext):\n",
    "    # spark_context._jsc.hadoopConfiguration().set(\"fs.s3a.access.key\", os.getenv(\"AWS_ACCESS_KEY_ID\", \"admin\"))\n",
    "    # spark_context._jsc.hadoopConfiguration().set(\"fs.s3a.secret.key\", os.getenv(\"AWS_SECRET_ACCESS_KEY\", \"password\"))\n",
    "    # spark_context._jsc.hadoopConfiguration().set(\"fs.s3a.endpoint\", os.getenv(\"ENDPOINT\", \"http://minio:9090\"))\n",
    "    # spark_context._jsc.hadoopConfiguration().set(\"fs.s3a.connection.ssl.enabled\", \"true\")\n",
    "    # spark_context._jsc.hadoopConfiguration().set(\"fs.s3a.path.style.access\", \"true\")\n",
    "    # spark_context._jsc.hadoopConfiguration().set(\"fs.s3a.attempts.maximum\", \"1\")\n",
    "    # spark_context._jsc.hadoopConfiguration().set(\"fs.s3a.connection.establish.timeout\", \"5000\")\n",
    "    # spark_context._jsc.hadoopConfiguration().set(\"fs.s3a.connection.timeout\", \"10000\")\n",
    "    spark_context._jsc.hadoopConfiguration().set(\"hive.metastore.warehouse.dir\", \"s3a://warehouse/wh/\")\n",
    "    # spark_context._jsc.hadoopConfiguration().set('spark.hadoop.fs.s3a.aws.credentials.provider','org.apache.hadoop.fs.s3a.TemporaryAWSCredentialsProvider')\n",
    "\n",
    "load_config(spark.sparkContext)"
   ]
  },
  {
   "cell_type": "code",
   "execution_count": null,
   "id": "1c000276-aa5a-4d13-b3d3-8c6b2401ee17",
   "metadata": {},
   "outputs": [],
   "source": [
    "spark.conf.get(\"spark.sql.defaultCatalog\")"
   ]
  },
  {
   "cell_type": "markdown",
   "id": "a44d5a6e-ec92-4602-acc3-dfb298b7179a",
   "metadata": {},
   "source": [
    "### checking connection to hiveserver"
   ]
  },
  {
   "cell_type": "code",
   "execution_count": null,
   "id": "f081614b-ef82-4f33-bc85-7cfbe206166f",
   "metadata": {},
   "outputs": [],
   "source": [
    "%%sql\n",
    "show databases;"
   ]
  },
  {
   "cell_type": "code",
   "execution_count": null,
   "id": "c4347e0a-e6d0-4dc6-805a-7cfd8cdff1b4",
   "metadata": {},
   "outputs": [],
   "source": [
    "%%sql\n",
    "create database ipa;"
   ]
  },
  {
   "cell_type": "code",
   "execution_count": null,
   "id": "b1da0a47-8b87-4033-95f6-162427bee44e",
   "metadata": {},
   "outputs": [],
   "source": [
    "%%sql \n",
    "show databases"
   ]
  },
  {
   "cell_type": "code",
   "execution_count": null,
   "id": "81426787-946f-4681-9e1e-8d0425158720",
   "metadata": {},
   "outputs": [],
   "source": []
  }
 ],
 "metadata": {
  "kernelspec": {
   "display_name": "Python 3 (ipykernel)",
   "language": "python",
   "name": "python3"
  },
  "language_info": {
   "codemirror_mode": {
    "name": "ipython",
    "version": 3
   },
   "file_extension": ".py",
   "mimetype": "text/x-python",
   "name": "python",
   "nbconvert_exporter": "python",
   "pygments_lexer": "ipython3",
   "version": "3.9.19"
  }
 },
 "nbformat": 4,
 "nbformat_minor": 5
}
